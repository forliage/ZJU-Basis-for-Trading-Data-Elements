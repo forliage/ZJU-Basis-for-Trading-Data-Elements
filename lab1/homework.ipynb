{
 "cells": [
  {
   "cell_type": "markdown",
   "id": "c7ca776b",
   "metadata": {},
   "source": [
    "## Shapley 值的计算\n",
    "\n",
    "### 注意事项\n",
    "\n",
    "0. **这是本实验应该看的第一个文件，请根据本文件的指示，逐步完成实验**\n",
    "1. 本实验需要填空的文件夹为 exactSV.py 和 mcSV.py，**请不要修改其他文件，包括本 ipynb 文件**\n",
    "2. 完成两个文件函数代码的实现后，在以下每个代码框中验证计算结果\n",
    "3. 在实验过程中，**允许使用生成式人工智能理解代码框架并完成实验**\n",
    "4. **提交时需要将整个代码文件夹压缩成 .zip 格式提交，并且注意保留本 ipynb 文件的所有运行结果**，不要清除输出\n",
    "5. （**很重要**）建议每次更新代码后，在运行 ipynb 文件前先重启（restart），否则其中一些记忆变量会干扰实验结果\n",
    "\n",
    "文件内容解释：\n",
    "\n",
    "- dataset: iris 训练与测试数据\n",
    "- groundTruth: 不同任务 Shapley 值计算的正确答案\n",
    "- exactSV.py：代补充 Shapley 值准确算法（基于联盟）的代码文件；\n",
    "- game.py: 定义了几个 Shapley 值计算任务，具体内容无需理解，可以视为黑箱；\n",
    "- homework.ipynb: 运行测试的文件；\n",
    "- mcSV: 待补充采样算法近似计算 Shapley 值算法的代码文件；\n",
    "- naiveSV: 已给出的 Shapley 值准确算法（基于排列）的代码问题；\n",
    "- util.py: 定义了一些函数，具体内容无需理解，可以视为黑箱。"
   ]
  },
  {
   "cell_type": "markdown",
   "id": "1c29db5b",
   "metadata": {},
   "source": [
    "### 任务一：理解 naiveSV.py 中的 Shapley 值计算代码\n",
    "\n",
    "naiveSV.py 中给出了使用公式\n",
    "$$ SV_i = \\frac{1}{n!} \\sum_{\\sigma \\in S_n} (u(P_i(\\sigma) \\cup \\{i\\}) - u(P_i(\\sigma))) $$\n",
    "准确计算 Shapley 值的算法。要求同学们根据给出的注释理解代码，在接下来的填空中可以仿照这一代码完成实验。"
   ]
  },
  {
   "cell_type": "markdown",
   "id": "85f2f809",
   "metadata": {},
   "source": [
    "### 任务二：补全 exactSV.py 中的 Shapley 值计算代码，并运行接下来的两个代码框验证结果\n",
    "\n",
    "exactSV.py 中希望你补全基于公式\n",
    "$$ SV_i = \\frac{1}{n!} \\sum_{S \\subseteq N \\setminus \\{i\\}} |S|!(n - |S| - 1)! (u(S \\cup \\{i\\}) - u(S)) $$\n",
    "准确计算 Shapley 值的算法。要求同学们根据注释补充完成相应的代码，然后运行接下来的两个代码框验证结果准确性。"
   ]
  },
  {
   "cell_type": "code",
   "execution_count": 1,
   "id": "39d4f8bc",
   "metadata": {},
   "outputs": [
    {
     "name": "stdout",
     "output_type": "stream",
     "text": [
      "Number of player:  10\n",
      "Generated 1023 Sets\n",
      "Calculating utilities for 1024 coalitions...\n",
      "Calculating Shapley values...\n"
     ]
    },
    {
     "name": "stderr",
     "output_type": "stream",
     "text": [
      "Calculating SV: 100%|██████████| 10/10 [00:00<00:00, 1634.25it/s]"
     ]
    },
    {
     "name": "stdout",
     "output_type": "stream",
     "text": [
      "My Results: [0.1        0.21111111 0.33611111 0.47896825 0.64563492 0.84563492\n",
      " 1.09563492 1.42896825 1.92896825 2.92896825]\n",
      "Ground Truth: [0.1        0.21111111 0.33611111 0.47896825 0.64563492 0.84563492\n",
      " 1.09563492 1.42896825 1.92896825 2.92896825]\n",
      "Accuracy: 100.00%\n"
     ]
    },
    {
     "name": "stderr",
     "output_type": "stream",
     "text": [
      "\n"
     ]
    }
   ],
   "source": [
    "import os\n",
    "import numpy as np\n",
    "from exactSV import exact_sv\n",
    "from game import Game\n",
    "\n",
    "game_type = 'airport'\n",
    "num_players = 10\n",
    "game = Game(gt = game_type, n = num_players)\n",
    "mySV = exact_sv(game) # 你计算的 Shapley 值\n",
    "print(\"My Results:\", mySV)\n",
    "gt_path = f\"./groundTruth/{game_type}_{num_players}.txt\"\n",
    "\n",
    "# 判断你的答案是否正确（即与标准答案相差有限）\n",
    "if os.path.exists(gt_path):\n",
    "    try:\n",
    "        gt_values = np.loadtxt(gt_path) # Shapley 值标准答案\n",
    "        print(\"Ground Truth:\", gt_values)\n",
    "        error = np.abs(mySV - gt_values)\n",
    "        threshold = 1e-2\n",
    "        is_correct = np.abs(error) < threshold\n",
    "        accuracy = np.mean(is_correct) * 100\n",
    "        print(f\"Accuracy: {accuracy:.2f}%\")\n",
    "    except Exception as e:\n",
    "        print(f\"Accuracy caculation wrong: {e}\")\n",
    "else:\n",
    "    print(f\"Ground truth not exists: {gt_path}\")"
   ]
  },
  {
   "cell_type": "markdown",
   "id": "b3a7f3e3",
   "metadata": {},
   "source": [
    "检查扩展性：当 $n = 20$ 时运算可能偏慢，该部分检查你的算法是否能在合理的时间内计算完成。"
   ]
  },
  {
   "cell_type": "code",
   "execution_count": 2,
   "id": "765e6225",
   "metadata": {},
   "outputs": [
    {
     "name": "stdout",
     "output_type": "stream",
     "text": [
      "Number of player:  20\n",
      "Generated 1048575 Sets\n",
      "Calculating utilities for 1048576 coalitions...\n",
      "Calculating Shapley values...\n"
     ]
    },
    {
     "name": "stderr",
     "output_type": "stream",
     "text": [
      "Calculating SV: 100%|██████████| 20/20 [00:24<00:00,  1.22s/it]"
     ]
    },
    {
     "name": "stdout",
     "output_type": "stream",
     "text": [
      "My Results: [0.05       0.10263158 0.15818713 0.21701066 0.27951066 0.34617733\n",
      " 0.4176059  0.49452898 0.57786231 0.6687714  0.7687714  0.87988251\n",
      " 1.00488251 1.14773966 1.31440632 1.51440632 1.76440632 2.09773966\n",
      " 2.59773966 3.59773966]\n",
      "Ground Truth: [0.05       0.10263158 0.15818713 0.21701066 0.27951066 0.34617733\n",
      " 0.4176059  0.49452898 0.57786231 0.6687714  0.7687714  0.87988251\n",
      " 1.00488251 1.14773966 1.31440632 1.51440632 1.76440632 2.09773966\n",
      " 2.59773966 3.59773966]\n",
      "Accuracy: 100.00%\n"
     ]
    },
    {
     "name": "stderr",
     "output_type": "stream",
     "text": [
      "\n"
     ]
    }
   ],
   "source": [
    "import os\n",
    "import numpy as np\n",
    "from exactSV import exact_sv\n",
    "from game import Game\n",
    "\n",
    "game_type = 'airport'\n",
    "num_players = 20\n",
    "game = Game(gt = game_type, n = num_players)\n",
    "mySV = exact_sv(game)\n",
    "print(\"My Results:\", mySV)\n",
    "gt_path = f\"./groundTruth/{game_type}_{num_players}.txt\"\n",
    "if os.path.exists(gt_path):\n",
    "    try:\n",
    "        gt_values = np.loadtxt(gt_path)\n",
    "        print(\"Ground Truth:\", gt_values)\n",
    "        error = np.abs(mySV - gt_values)\n",
    "        threshold = 1e-2\n",
    "        is_correct = np.abs(error) < threshold\n",
    "        accuracy = np.mean(is_correct) * 100\n",
    "        print(f\"Accuracy: {accuracy:.2f}%\")\n",
    "    except Exception as e:\n",
    "        print(f\"Accuracy caculation wrong: {e}\")\n",
    "else:\n",
    "    print(f\"Ground truth not exists: {gt_path}\")"
   ]
  },
  {
   "cell_type": "markdown",
   "id": "e9394e04",
   "metadata": {},
   "source": [
    "### 任务三：补全 mcSV.py 中的 Shapley 值采样算法，并运行下面的代码框验证结果\n",
    "\n",
    "使用蒙特卡洛方法计算给定博弈中每个玩家的 Shapley 值。蒙特卡洛方法通过随机采样玩家排列来估算 Shapley 值，适用于玩家数量较多时的近似计算。\n",
    "\n",
    "实现非常简单：回忆基于排列的准确 Shapley 值计算算法，需要计算 n! 个排列中所有玩家的边际贡献，蒙特卡洛采样算法从 n! 个排列中随机出一部分计算所有玩家的边际贡献作为 Shapley 值的近似解。\n",
    "\n",
    "实现完成后运行下面的代码检查采样方法实现准确性，注意**可以调整采样次数，但不要修改误差标准**。"
   ]
  },
  {
   "cell_type": "code",
   "execution_count": 3,
   "id": "47bc5155",
   "metadata": {},
   "outputs": [
    {
     "name": "stderr",
     "output_type": "stream",
     "text": [
      "100%|██████████| 1600000/1600000 [04:15<00:00, 6250.35it/s]"
     ]
    },
    {
     "name": "stdout",
     "output_type": "stream",
     "text": [
      "My Results: [0.04020625 0.08150688 0.12516188 0.1703125  0.21965438 0.26954937\n",
      " 0.32101625 0.37641625 0.4365075  0.49746438 0.56336    0.63543938\n",
      " 0.7144025  0.79837375 0.88943313 0.9905225  1.0971025  1.22047938\n",
      " 1.36918563 1.52581937 1.73090625 1.97872625 2.31504625 2.82221875\n",
      " 3.81118875]\n",
      "Ground Truth: [0.04       0.08166667 0.12514493 0.17059947 0.21821852 0.26821852\n",
      " 0.3208501  0.37640566 0.43522918 0.49772918 0.56439585 0.63582442\n",
      " 0.7127475  0.79608083 0.88698992 0.98698992 1.09810103 1.22310103\n",
      " 1.36595818 1.53262484 1.73262484 1.98262484 2.31595818 2.81595818\n",
      " 3.81595818]\n",
      "Accuracy: 100.00%\n"
     ]
    },
    {
     "name": "stderr",
     "output_type": "stream",
     "text": [
      "\n"
     ]
    }
   ],
   "source": [
    "import os\n",
    "import numpy as np\n",
    "from mcSV import mc_sv\n",
    "from game import Game\n",
    "\n",
    "threshold = 1e-2\n",
    "game_type = 'airport'\n",
    "num_players = 25\n",
    "total_sample_budgets = 1600000 * num_players\n",
    "game = Game(gt = game_type, n = num_players)\n",
    "mySV = mc_sv(game, total_sample_budget = total_sample_budgets)\n",
    "print(\"My Results:\", mySV)\n",
    "gt_path = f\"./groundTruth/{game_type}_{num_players}.txt\"\n",
    "if os.path.exists(gt_path):\n",
    "    try:\n",
    "        gt_values = np.loadtxt(gt_path)\n",
    "        print(\"Ground Truth:\", gt_values)\n",
    "        error = np.abs(mySV - gt_values)\n",
    "        is_correct = np.abs(error) < threshold\n",
    "        accuracy = np.mean(is_correct) * 100\n",
    "        print(f\"Accuracy: {accuracy:.2f}%\")\n",
    "    except Exception as e:\n",
    "        print(f\"Accuracy caculation wrong: {e}\")\n",
    "else:\n",
    "    print(f\"Ground truth not exists: {gt_path}\")"
   ]
  },
  {
   "cell_type": "markdown",
   "id": "beab73ad",
   "metadata": {},
   "source": [
    "检查其他任务的采样准确性：\n",
    "1. voting：51人投票计算每个人的权利大小；\n",
    "2. iris 机器学习分类模型，注意使用已经给定的 util 中 get dataset 的方式划分数据集合（通俗而言就是不要动代码），否则会导致 Shapley 值答案变化。"
   ]
  },
  {
   "cell_type": "code",
   "execution_count": 4,
   "id": "ef378ff0",
   "metadata": {},
   "outputs": [
    {
     "name": "stderr",
     "output_type": "stream",
     "text": [
      "100%|██████████| 800000/800000 [04:24<00:00, 3022.92it/s]\n"
     ]
    },
    {
     "name": "stdout",
     "output_type": "stream",
     "text": [
      "My Results: [0.088235   0.0798575  0.05153375 0.04883    0.049155   0.04694375\n",
      " 0.038925   0.03132    0.0315225  0.02567625 0.02407    0.02360375\n",
      " 0.02193625 0.02191375 0.02196375 0.020425   0.01812    0.0182125\n",
      " 0.018385   0.018445   0.01645125 0.0164725  0.01613    0.0162625\n",
      " 0.01432625 0.0144925  0.01255875 0.0126325  0.01263    0.01266375\n",
      " 0.01093    0.01089125 0.0110175  0.0109375  0.00898625 0.00726\n",
      " 0.00731625 0.00738    0.0072875  0.0072875  0.0073275  0.0071625\n",
      " 0.00717625 0.00722375 0.0054475  0.0053725  0.0054225  0.00541375\n",
      " 0.00553125 0.00548375 0.00545125]\n",
      "Ground Truth: [0.08831  0.07973  0.05096  0.04898  0.04898  0.047    0.03917  0.03147\n",
      " 0.03147  0.02577  0.02388  0.02388  0.022    0.022    0.022    0.02013\n",
      " 0.01827  0.01827  0.01827  0.01827  0.01641  0.01641  0.01641  0.01641\n",
      " 0.01456  0.01456  0.01272  0.01272  0.01272  0.01272  0.01088  0.01088\n",
      " 0.01088  0.01088  0.009053 0.00723  0.00723  0.00723  0.00723  0.00723\n",
      " 0.00723  0.00723  0.00723  0.00723  0.005412 0.005412 0.005412 0.005412\n",
      " 0.005412 0.005412 0.005412]\n",
      "Accuracy: 100.00%\n"
     ]
    }
   ],
   "source": [
    "## voting\n",
    "import os\n",
    "import numpy as np\n",
    "from mcSV import mc_sv\n",
    "from game import Game\n",
    "\n",
    "threshold = 1e-2\n",
    "game_type = 'voting'\n",
    "num_players = 51\n",
    "total_sample_budgets = 800000 *num_players\n",
    "game = Game(gt = game_type, n = num_players)\n",
    "mySV = mc_sv(game, total_sample_budget = total_sample_budgets)\n",
    "print(\"My Results:\", mySV)\n",
    "gt_path = f\"./groundTruth/{game_type}_{num_players}.txt\"\n",
    "if os.path.exists(gt_path):\n",
    "    try:\n",
    "        gt_values = np.loadtxt(gt_path)\n",
    "        print(\"Ground Truth:\", gt_values)\n",
    "        error = np.abs(mySV - gt_values)\n",
    "        is_correct = np.abs(error) < threshold\n",
    "        accuracy = np.mean(is_correct) * 100\n",
    "        print(f\"Accuracy: {accuracy:.2f}%\")\n",
    "    except Exception as e:\n",
    "        print(f\"Accuracy caculation wrong: {e}\")\n",
    "else:\n",
    "    print(f\"Ground truth not exists: {gt_path}\")"
   ]
  },
  {
   "cell_type": "code",
   "execution_count": 5,
   "id": "05db57cf",
   "metadata": {},
   "outputs": [
    {
     "name": "stderr",
     "output_type": "stream",
     "text": [
      "100%|██████████| 10000/10000 [19:03<00:00,  8.74it/s]"
     ]
    },
    {
     "name": "stdout",
     "output_type": "stream",
     "text": [
      "My Results: [0.00952  0.010086 0.005816 0.013982 0.010332 0.008806 0.013198 0.015896\n",
      " 0.011828 0.004424 0.006504 0.014114 0.012796 0.013406 0.00722  0.013592\n",
      " 0.009324 0.008778 0.013756 0.007356 0.010254 0.012908 0.00657  0.010796\n",
      " 0.008204 0.00545  0.012456 0.007974 0.013718 0.004844 0.011228 0.014096\n",
      " 0.014688 0.007574 0.000514 0.01406  0.013292 0.013512 0.015218 0.002646\n",
      " 0.00462  0.012832 0.000212 0.011194 0.010004 0.007046 0.013968 0.01417\n",
      " 0.007696 0.011734 0.015774 0.013968 0.014934 0.000456 0.013068 0.014954\n",
      " 0.012222 0.013264 0.014328 0.004234 0.004108 0.007804 0.001758 0.012802\n",
      " 0.013654 0.011406 0.00665  0.00991  0.006144 0.008612 0.005306 0.014266\n",
      " 0.004528 0.00463  0.013396 0.008624 0.010698 0.01311  0.012762 0.005156\n",
      " 0.012682 0.009908 0.014922 0.014136 0.013458 0.000838 0.012108 0.012884\n",
      " 0.007754 0.010696 0.00536  0.006222 0.009608 0.009188 0.014266 0.008904\n",
      " 0.006756 0.013246 0.008614 0.011712]\n",
      "Ground Truth: [ 0.00793372  0.01002553  0.00536287  0.01404442  0.00930468  0.00871755\n",
      "  0.01403318  0.01441887  0.01350059  0.00541077  0.0079024   0.01344323\n",
      "  0.01396698  0.01371557  0.00739958  0.01413456  0.00840879  0.00965575\n",
      "  0.01453931  0.00638422  0.01027819  0.01374488  0.00714004  0.01036321\n",
      "  0.00833438  0.0054726   0.0124371   0.00878752  0.01331627  0.00467898\n",
      "  0.01090574  0.01415957  0.01424992  0.00761536 -0.00022924  0.01381916\n",
      "  0.01265845  0.01367061  0.01399618  0.00216574  0.00427273  0.01222532\n",
      "  0.0003095   0.01047582  0.01074673  0.00885411  0.01413789  0.01468641\n",
      "  0.00805266  0.01197225  0.01425291  0.01432503  0.01441201  0.001409\n",
      "  0.01351932  0.01464956  0.01228289  0.01327724  0.01438027  0.00401335\n",
      "  0.00401715  0.00699989  0.00258494  0.01247532  0.01387466  0.01099359\n",
      "  0.00664481  0.01044784  0.0069296   0.00812996  0.00460936  0.01392991\n",
      "  0.0038369   0.00638238  0.01409766  0.00836365  0.01092679  0.01320619\n",
      "  0.01422473  0.00494585  0.01257841  0.01071013  0.01428057  0.01297442\n",
      "  0.01426972  0.00077601  0.01085037  0.01209873  0.00850899  0.01098067\n",
      "  0.00491677  0.00621838  0.00935401  0.00953138  0.01313203  0.00915373\n",
      "  0.00558103  0.01322568  0.00932427  0.01179129]\n",
      "Accuracy: 100.00%\n"
     ]
    },
    {
     "name": "stderr",
     "output_type": "stream",
     "text": [
      "\n"
     ]
    }
   ],
   "source": [
    "## iris classfication\n",
    "import os\n",
    "import numpy as np\n",
    "from sklearn import svm\n",
    "from mcSV import mc_sv\n",
    "from game import Game\n",
    "from util import get_dataset\n",
    "\n",
    "threshold = 1e-2\n",
    "game_type = 'iris'\n",
    "num_players = 100\n",
    "total_sample_budgets = 10000 * num_players\n",
    "datapath = './dataset'\n",
    "trnX, trnY, tstX, tstY = get_dataset(game_type, datapath, trainsize = 150 - num_players)\n",
    "mymodel = svm.SVC(decision_function_shape='ovo', probability=True)\n",
    "game = Game(gt = game_type, x_train = trnX, y_train = trnY, x_test = tstX, y_test = tstY,\n",
    "            model = mymodel, n = num_players)\n",
    "mySV = mc_sv(game, total_sample_budget = total_sample_budgets)\n",
    "print(\"My Results:\", mySV)\n",
    "gt_path = f\"./groundTruth/{game_type}_{num_players}.txt\"\n",
    "if os.path.exists(gt_path):\n",
    "    try:\n",
    "        gt_values = np.loadtxt(gt_path)\n",
    "        print(\"Ground Truth:\", gt_values)\n",
    "        error = np.abs(mySV - gt_values)\n",
    "        is_correct = np.abs(error) < threshold\n",
    "        accuracy = np.mean(is_correct) * 100\n",
    "        print(f\"Accuracy: {accuracy:.2f}%\")\n",
    "    except Exception as e:\n",
    "        print(f\"Accuracy caculation wrong: {e}\")\n",
    "else:\n",
    "    print(f\"Ground truth not exists: {gt_path}\")"
   ]
  },
  {
   "cell_type": "markdown",
   "id": "a45638d5",
   "metadata": {},
   "source": [
    "测试采样算法的收敛情况，即随着采样次数的增大，采样得到的 Shapley 近似值与真实值之间的均方误差降低的情况。下面的代码通过绘制均方误差随采样次数变化的曲线应当能展示这一点。"
   ]
  },
  {
   "cell_type": "code",
   "execution_count": 6,
   "id": "395734fe",
   "metadata": {},
   "outputs": [
    {
     "name": "stdout",
     "output_type": "stream",
     "text": [
      "Ground Truth: [0.08831  0.07973  0.05096  0.04898  0.04898  0.047    0.03917  0.03147\n",
      " 0.03147  0.02577  0.02388  0.02388  0.022    0.022    0.022    0.02013\n",
      " 0.01827  0.01827  0.01827  0.01827  0.01641  0.01641  0.01641  0.01641\n",
      " 0.01456  0.01456  0.01272  0.01272  0.01272  0.01272  0.01088  0.01088\n",
      " 0.01088  0.01088  0.009053 0.00723  0.00723  0.00723  0.00723  0.00723\n",
      " 0.00723  0.00723  0.00723  0.00723  0.005412 0.005412 0.005412 0.005412\n",
      " 0.005412 0.005412 0.005412]\n",
      "Testing with sample budgets: [     101      427     1792     7515    31506   132085   553741  2321442\n",
      "  9732155 40799999]\n",
      "\n",
      "Calculating Shapley Values for budget = 101...\n"
     ]
    },
    {
     "name": "stderr",
     "output_type": "stream",
     "text": [
      "100%|██████████| 1/1 [00:00<00:00, 662.92it/s]\n"
     ]
    },
    {
     "name": "stdout",
     "output_type": "stream",
     "text": [
      "Budget: 101, MSE: 1.988021e-02\n",
      "\n",
      "Calculating Shapley Values for budget = 427...\n"
     ]
    },
    {
     "name": "stderr",
     "output_type": "stream",
     "text": [
      "100%|██████████| 8/8 [00:00<00:00, 2194.53it/s]\n"
     ]
    },
    {
     "name": "stdout",
     "output_type": "stream",
     "text": [
      "Budget: 427, MSE: 2.909624e-03\n",
      "\n",
      "Calculating Shapley Values for budget = 1792...\n"
     ]
    },
    {
     "name": "stderr",
     "output_type": "stream",
     "text": [
      "100%|██████████| 35/35 [00:00<00:00, 3041.81it/s]\n"
     ]
    },
    {
     "name": "stdout",
     "output_type": "stream",
     "text": [
      "Budget: 1792, MSE: 4.521824e-04\n",
      "\n",
      "Calculating Shapley Values for budget = 7515...\n"
     ]
    },
    {
     "name": "stderr",
     "output_type": "stream",
     "text": [
      "100%|██████████| 147/147 [00:00<00:00, 3151.16it/s]\n"
     ]
    },
    {
     "name": "stdout",
     "output_type": "stream",
     "text": [
      "Budget: 7515, MSE: 1.333353e-04\n",
      "\n",
      "Calculating Shapley Values for budget = 31506...\n"
     ]
    },
    {
     "name": "stderr",
     "output_type": "stream",
     "text": [
      "100%|██████████| 617/617 [00:00<00:00, 2774.85it/s]\n"
     ]
    },
    {
     "name": "stdout",
     "output_type": "stream",
     "text": [
      "Budget: 31506, MSE: 4.045701e-05\n",
      "\n",
      "Calculating Shapley Values for budget = 132085...\n"
     ]
    },
    {
     "name": "stderr",
     "output_type": "stream",
     "text": [
      "100%|██████████| 2589/2589 [00:00<00:00, 3040.52it/s]\n"
     ]
    },
    {
     "name": "stdout",
     "output_type": "stream",
     "text": [
      "Budget: 132085, MSE: 9.615418e-06\n",
      "\n",
      "Calculating Shapley Values for budget = 553741...\n"
     ]
    },
    {
     "name": "stderr",
     "output_type": "stream",
     "text": [
      "100%|██████████| 10857/10857 [00:03<00:00, 3358.50it/s]\n"
     ]
    },
    {
     "name": "stdout",
     "output_type": "stream",
     "text": [
      "Budget: 553741, MSE: 1.766022e-06\n",
      "\n",
      "Calculating Shapley Values for budget = 2321442...\n"
     ]
    },
    {
     "name": "stderr",
     "output_type": "stream",
     "text": [
      "100%|██████████| 45518/45518 [00:13<00:00, 3311.07it/s]\n"
     ]
    },
    {
     "name": "stdout",
     "output_type": "stream",
     "text": [
      "Budget: 2321442, MSE: 3.537132e-07\n",
      "\n",
      "Calculating Shapley Values for budget = 9732155...\n"
     ]
    },
    {
     "name": "stderr",
     "output_type": "stream",
     "text": [
      "100%|██████████| 190826/190826 [01:06<00:00, 2885.09it/s]\n"
     ]
    },
    {
     "name": "stdout",
     "output_type": "stream",
     "text": [
      "Budget: 9732155, MSE: 8.713574e-08\n",
      "\n",
      "Calculating Shapley Values for budget = 40799999...\n"
     ]
    },
    {
     "name": "stderr",
     "output_type": "stream",
     "text": [
      "100%|██████████| 799999/799999 [04:49<00:00, 2758.65it/s]\n"
     ]
    },
    {
     "name": "stdout",
     "output_type": "stream",
     "text": [
      "Budget: 40799999, MSE: 2.449260e-08\n"
     ]
    },
    {
     "data": {
      "image/png": "[encoded data removed]",
      "text/plain": [
       "<Figure size 1000x600 with 1 Axes>"
      ]
     },
     "metadata": {},
     "output_type": "display_data"
    }
   ],
   "source": [
    "import os\n",
    "import numpy as np\n",
    "import matplotlib.pyplot as plt\n",
    "from mcSV import mc_sv\n",
    "from game import Game\n",
    "\n",
    "threshold = 1e-2\n",
    "game_type = 'voting'\n",
    "num_players = 51\n",
    "min_total_sample_budgets = num_players * 2\n",
    "max_total_sample_budgets = num_players * 800000\n",
    "game = Game(gt = game_type, n = num_players)\n",
    "gt_path = f\"./groundTruth/{game_type}_{num_players}.txt\"\n",
    "if os.path.exists(gt_path):\n",
    "    try:\n",
    "        gt_values = np.loadtxt(gt_path)\n",
    "        print(\"Ground Truth:\", gt_values)\n",
    "    except Exception as e:\n",
    "        print(f\"Error loading ground truth: {e}\")\n",
    "        gt_values = None\n",
    "else:\n",
    "    print(f\"Ground truth not exists: {gt_path}\")\n",
    "\n",
    "if gt_values is None:\n",
    "    print(\"Cannot proceed with MSE calculation without ground truth. Exiting.\")\n",
    "    exit()\n",
    "else:\n",
    "    #######examples#################\n",
    "    sample_budgets_to_test = np.logspace(np.log10(min_total_sample_budgets), \n",
    "                                         np.log10(max_total_sample_budgets), num=10, dtype=int)\n",
    "    sample_budgets_to_test = np.maximum(num_players, sample_budgets_to_test)\n",
    "    sample_budgets_to_test = np.unique(sample_budgets_to_test)\n",
    "    print(f\"Testing with sample budgets: {sample_budgets_to_test}\")\n",
    "    ################################\n",
    "\n",
    "    mse_values = []\n",
    "\n",
    "    for budget in sample_budgets_to_test:\n",
    "        print(f\"\\nCalculating Shapley Values for budget = {budget}...\")\n",
    "        current_mySV = mc_sv(game, total_sample_budget=budget)\n",
    "        \n",
    "        if current_mySV is None or len(current_mySV) != len(gt_values):\n",
    "            print(f\"Error: mc_sv did not return valid Shapley values for budget {budget}. Expected length {len(gt_values)}, got {len(current_mySV) if current_mySV is not None else 'None'}.\")\n",
    "            mse_values.append(np.nan)\n",
    "            continue\n",
    "\n",
    "        mse = np.mean((current_mySV - gt_values)**2)\n",
    "        mse_values.append(mse)\n",
    "        print(f\"Budget: {budget}, MSE: {mse:.6e}\")\n",
    "\n",
    "    plt.figure(figsize=(10, 6))\n",
    "    plt.plot(sample_budgets_to_test, mse_values, marker='o', linestyle='-')\n",
    "    plt.xscale('log')\n",
    "    plt.yscale('log')\n",
    "    plt.xlabel(\"Total Sample Budget\")\n",
    "    plt.ylabel(\"MSE\")\n",
    "    plt.title(f\"'{game_type}'game's MSE vs Shapley sampling times (N={num_players})\")\n",
    "    plt.grid(True, which=\"both\", ls=\"-\")\n",
    "    plt.tight_layout()\n",
    "    plt.show()"
   ]
  }
 ],
 "metadata": {
  "kernelspec": {
   "display_name": "base",
   "language": "python",
   "name": "python3"
  },
  "language_info": {
   "codemirror_mode": {
    "name": "ipython",
    "version": 3
   },
   "file_extension": ".py",
   "mimetype": "text/x-python",
   "name": "python",
   "nbconvert_exporter": "python",
   "pygments_lexer": "ipython3",
   "version": "3.12.7"
  }
 },
 "nbformat": 4,
 "nbformat_minor": 5
}
